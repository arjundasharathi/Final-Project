{
 "cells": [
  {
   "cell_type": "code",
   "execution_count": 1,
   "metadata": {},
   "outputs": [],
   "source": [
    "from splinter import Browser\n",
    "from bs4 import BeautifulSoup as bs\n",
    "import time\n",
    "import requests\n",
    "import pandas as pd\n",
    "from geopy.geocoders import Nominatim\n",
    "\n",
    "# def init_browser():\n",
    "\n",
    "# !which chromedriver\n",
    "# executable_path = {\"executable_path\": \"chromedriver.exe\"}\n",
    "# browser = Browser(\"chrome\", **executable_path, headless=False)\n",
    "\n",
    "# browser = init_browser()\n",
    "\n",
    "# from requests_html import HTMLSession,AsyncHTMLSession\n",
    "\n",
    "# url = \"https://toronto.listing.ca/\"\n",
    "# html_content = requests.get(url)\n",
    "# browser.visit(url)\n",
    "\n",
    "# time.sleep(1)\n",
    "# html = browser.html\n",
    "# soup = bs(html, \"html.parser\")\n",
    "\n",
    "\n",
    "# # soup = bs(html_content, \"html\")\n",
    "# print(soup.prettify())\n"
   ]
  },
  {
   "cell_type": "code",
   "execution_count": 2,
   "metadata": {},
   "outputs": [],
   "source": [
    "#houses = soup.find_all('div', class_=\"lc\")"
   ]
  },
  {
   "cell_type": "code",
   "execution_count": 3,
   "metadata": {},
   "outputs": [],
   "source": [
    "#houses[0].find('div', class_=\"slt_address\").text\n"
   ]
  },
  {
   "cell_type": "code",
   "execution_count": 4,
   "metadata": {},
   "outputs": [],
   "source": [
    "#houses[0].find('div', class_=\"slt_beds\").text\n"
   ]
  },
  {
   "cell_type": "code",
   "execution_count": 5,
   "metadata": {},
   "outputs": [],
   "source": [
    "#houses[0].find('div', class_=\"slt_baths\").text\n"
   ]
  },
  {
   "cell_type": "code",
   "execution_count": 6,
   "metadata": {},
   "outputs": [],
   "source": [
    "#houses[0].find('div', class_=\"slt_price\").text"
   ]
  },
  {
   "cell_type": "code",
   "execution_count": 7,
   "metadata": {},
   "outputs": [],
   "source": [
    "#houses[0].find('div', class_=\"sl_loc\").a.text"
   ]
  },
  {
   "cell_type": "code",
   "execution_count": 8,
   "metadata": {},
   "outputs": [
    {
     "ename": "TypeError",
     "evalue": "bad operand type for unary +: 'str'",
     "output_type": "error",
     "traceback": [
      "\u001b[0;31m---------------------------------------------------------------------------\u001b[0m",
      "\u001b[0;31mTypeError\u001b[0m                                 Traceback (most recent call last)",
      "\u001b[0;32m<ipython-input-8-4e361203c665>\u001b[0m in \u001b[0;36m<module>\u001b[0;34m\u001b[0m\n\u001b[1;32m     19\u001b[0m \u001b[0;34m\u001b[0m\u001b[0m\n\u001b[1;32m     20\u001b[0m             \u001b[0mlocator\u001b[0m \u001b[0;34m=\u001b[0m \u001b[0mNominatim\u001b[0m\u001b[0;34m(\u001b[0m\u001b[0muser_agent\u001b[0m\u001b[0;34m=\u001b[0m\u001b[0;34m'myGeocoder'\u001b[0m\u001b[0;34m)\u001b[0m\u001b[0;34m\u001b[0m\u001b[0;34m\u001b[0m\u001b[0m\n\u001b[0;32m---> 21\u001b[0;31m             \u001b[0mlocation\u001b[0m \u001b[0;34m=\u001b[0m \u001b[0mlocator\u001b[0m\u001b[0;34m.\u001b[0m\u001b[0mgeocode\u001b[0m\u001b[0;34m(\u001b[0m\u001b[0mAddress\u001b[0m\u001b[0;34m,\u001b[0m\u001b[0;34m+\u001b[0m\u001b[0;34m\",\"\u001b[0m\u001b[0;34m+\u001b[0m \u001b[0mLocation\u001b[0m\u001b[0;34m)\u001b[0m\u001b[0;34m\u001b[0m\u001b[0;34m\u001b[0m\u001b[0m\n\u001b[0m\u001b[1;32m     22\u001b[0m \u001b[0;34m\u001b[0m\u001b[0m\n\u001b[1;32m     23\u001b[0m             \u001b[0;31m#print('Latitude = {}, Longitude = {}'.format(location.latitude, location.longitude))\u001b[0m\u001b[0;34m\u001b[0m\u001b[0;34m\u001b[0m\u001b[0;34m\u001b[0m\u001b[0m\n",
      "\u001b[0;31mTypeError\u001b[0m: bad operand type for unary +: 'str'"
     ]
    }
   ],
   "source": [
    "House_Listings = []\n",
    "\n",
    "\n",
    "for x in range(10):\n",
    "\n",
    "    url = f'https://listing.ca/mls/?..........{x+1}..$'\n",
    "    response = requests.get(url)\n",
    "    soup = bs(response.text, \"html.parser\")\n",
    "    houses = soup.find_all('div', class_=\"lc\")\n",
    "\n",
    "    for house in houses:\n",
    "\n",
    "        try:\n",
    "            Address = house.find('div', class_=\"slt_address\").text\n",
    "            Beds = house.find('div', class_=\"slt_beds\").text\n",
    "            Baths = house.find('div', class_=\"slt_baths\").text\n",
    "            Price = house.find('div', class_=\"slt_price\").text\n",
    "            Location = house.find('div', class_=\"sl_loc\").a.text\n",
    "            \n",
    "            locator = Nominatim(user_agent='myGeocoder')\n",
    "            location = locator.geocode(Address,+\",\"+ Location)\n",
    "\n",
    "            #print('Latitude = {}, Longitude = {}'.format(location.latitude, location.longitude))\n",
    "\n",
    "\n",
    "#             print(\"---------------\")\n",
    "#             print(Address)\n",
    "#             print(Beds)\n",
    "#             print(Baths)\n",
    "#             print(Price)\n",
    "#             print(Location)\n",
    "            \n",
    "\n",
    "            Listings = {}\n",
    "            \n",
    "            Listings['Address'] = Address\n",
    "            Listings['Beds'] = Beds\n",
    "            Listings['Baths'] = Baths\n",
    "            Listings['Price'] = Price\n",
    "            Listings['Location'] = Location\n",
    "            Listings['Latitude'] = location.latitude\n",
    "            Listings['Longitude'] = location.longitude\n",
    "            \n",
    "            House_Listings.append(Listings)\n",
    "            \n",
    "            \n",
    "        except AttributeError as e:\n",
    "            print(\"---------------\")\n",
    "            print(e)\n",
    "    \n",
    "    \n"
   ]
  },
  {
   "cell_type": "code",
   "execution_count": null,
   "metadata": {},
   "outputs": [],
   "source": [
    "pd.DataFrame(House_Listings)\n"
   ]
  },
  {
   "cell_type": "code",
   "execution_count": null,
   "metadata": {},
   "outputs": [],
   "source": [
    "Houses = pd.DataFrame(House_Listings)"
   ]
  },
  {
   "cell_type": "code",
   "execution_count": null,
   "metadata": {},
   "outputs": [],
   "source": [
    "Houses.to_csv('Houses.csv')"
   ]
  },
  {
   "cell_type": "code",
   "execution_count": null,
   "metadata": {},
   "outputs": [],
   "source": []
  }
 ],
 "metadata": {
  "kernelspec": {
   "display_name": "Python 3",
   "language": "python",
   "name": "python3"
  },
  "language_info": {
   "codemirror_mode": {
    "name": "ipython",
    "version": 3
   },
   "file_extension": ".py",
   "mimetype": "text/x-python",
   "name": "python",
   "nbconvert_exporter": "python",
   "pygments_lexer": "ipython3",
   "version": "3.7.3"
  }
 },
 "nbformat": 4,
 "nbformat_minor": 2
}
