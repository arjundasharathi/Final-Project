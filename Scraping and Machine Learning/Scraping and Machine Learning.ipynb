{
 "cells": [
  {
   "cell_type": "code",
   "execution_count": 135,
   "metadata": {},
   "outputs": [],
   "source": [
    "from splinter import Browser\n",
    "from bs4 import BeautifulSoup\n",
    "import time\n",
    "import requests\n",
    "import pandas as pd\n",
    "import re\n",
    "from time import sleep"
   ]
  },
  {
   "cell_type": "code",
   "execution_count": 136,
   "metadata": {},
   "outputs": [],
   "source": [
    "url = 'https://www.rew.ca/properties/areas/surrey-bc/type/house/page/1?list_price_to=3000000&only_open_house=0&searchable_id=1&searchable_type=Geography&total_floor_area_from=500'"
   ]
  },
  {
   "cell_type": "code",
   "execution_count": 137,
   "metadata": {},
   "outputs": [],
   "source": [
    "executable_path= {'executable_path':'chromedriver.exe'}\n",
    "browser = Browser('chrome', **executable_path, headless=False)\n"
   ]
  },
  {
   "cell_type": "code",
   "execution_count": 138,
   "metadata": {},
   "outputs": [],
   "source": [
    "browser.visit(url)"
   ]
  },
  {
   "cell_type": "code",
   "execution_count": 139,
   "metadata": {},
   "outputs": [],
   "source": [
    "html=browser.html\n",
    "soup = BeautifulSoup(html, 'html.parser')"
   ]
  },
  {
   "cell_type": "code",
   "execution_count": 140,
   "metadata": {},
   "outputs": [],
   "source": [
    "prices=[]\n",
    "list=[[],[],[]]\n",
    "#list[0] bedrooms\n",
    "#list[1] bathrooms \n",
    "#list[2] sqft\n",
    "addresses=[]\n",
    "for j in range(25):\n",
    "    browser.visit(f'https://www.rew.ca/properties/areas/surrey-bc/type/house/page/{j+1}?list_price_to=3000000&only_open_house=0&searchable_id=1&searchable_type=Geography&total_floor_area_from=500')\n",
    "    sleep(1)\n",
    "    html=browser.html\n",
    "    soup = BeautifulSoup(html, 'html.parser')\n",
    "    results=soup.find_all('div', class_=\"displaypanel-title hidden-xs\")\n",
    "    for result in results:\n",
    "        prices.append(result.text)\n",
    "    if len(prices)%22 != 0:\n",
    "        print('issue with number of prices being fetched')\n",
    "        print(len(prices))\n",
    "    results2= soup.find_all('div', class_=\"displaypanel-section clearfix\")\n",
    "    for result in results2:\n",
    "        resultlist=result.find_all('li')\n",
    "        for i in range(3):\n",
    "            list[i].append(resultlist[i].text)\n",
    "    if len(list[0])%22 != 0:\n",
    "        print('issue with number of bedrooms being fetched')\n",
    "        print(len(list[0]))\n",
    "    if len(list[1])%22 != 0:\n",
    "        print(len(list[1]))\n",
    "        print('issue with number of bathrooms being fetched')\n",
    "    if len(list[2])%22 != 0:\n",
    "        print(len(list[2]))\n",
    "        print('issue with number of squarefeet entries being fetched')\n",
    "    results3=soup.find_all('div', class_=\"displaypanel-section\")\n",
    "    for k in range(int(len(results3)/2)):\n",
    "        s=results3[k*2].text\n",
    "        stringaddress = re.search('\\n(.*)\\n', s).group(1)\n",
    "        addresses.append(stringaddress)\n",
    "    if len(addresses)%22 != 0:\n",
    "        print(len(addresses)) \n",
    "        print('issue with number of addresses being fetched')\n",
    "    "
   ]
  },
  {
   "cell_type": "code",
   "execution_count": 141,
   "metadata": {},
   "outputs": [
    {
     "name": "stdout",
     "output_type": "stream",
     "text": [
      "550\n",
      "550\n",
      "550\n",
      "550\n",
      "550\n"
     ]
    },
    {
     "data": {
      "text/html": [
       "<div>\n",
       "<style scoped>\n",
       "    .dataframe tbody tr th:only-of-type {\n",
       "        vertical-align: middle;\n",
       "    }\n",
       "\n",
       "    .dataframe tbody tr th {\n",
       "        vertical-align: top;\n",
       "    }\n",
       "\n",
       "    .dataframe thead th {\n",
       "        text-align: right;\n",
       "    }\n",
       "</style>\n",
       "<table border=\"1\" class=\"dataframe\">\n",
       "  <thead>\n",
       "    <tr style=\"text-align: right;\">\n",
       "      <th></th>\n",
       "      <th>price</th>\n",
       "      <th>bedrooms</th>\n",
       "      <th>bathrooms</th>\n",
       "      <th>sqft</th>\n",
       "      <th>address</th>\n",
       "    </tr>\n",
       "  </thead>\n",
       "  <tbody>\n",
       "    <tr>\n",
       "      <th>0</th>\n",
       "      <td>\\n$1,498,900\\n</td>\n",
       "      <td>5 bd</td>\n",
       "      <td>5 ba</td>\n",
       "      <td>3723 sf</td>\n",
       "      <td>15691 Mountain View Drive</td>\n",
       "    </tr>\n",
       "    <tr>\n",
       "      <th>1</th>\n",
       "      <td>\\n$1,668,800\\n</td>\n",
       "      <td>5 bd</td>\n",
       "      <td>3 ba</td>\n",
       "      <td>3514 sf</td>\n",
       "      <td>3081 Hillview Court</td>\n",
       "    </tr>\n",
       "    <tr>\n",
       "      <th>2</th>\n",
       "      <td>\\n$1,279,800\\n</td>\n",
       "      <td>8 bd</td>\n",
       "      <td>6 ba</td>\n",
       "      <td>3873 sf</td>\n",
       "      <td>7420 124b Street</td>\n",
       "    </tr>\n",
       "    <tr>\n",
       "      <th>3</th>\n",
       "      <td>\\n$1,788,000\\n</td>\n",
       "      <td>5 bd</td>\n",
       "      <td>5 ba</td>\n",
       "      <td>5012 sf</td>\n",
       "      <td>11218 163 Street</td>\n",
       "    </tr>\n",
       "    <tr>\n",
       "      <th>4</th>\n",
       "      <td>\\n$950,000\\n</td>\n",
       "      <td>5 bd</td>\n",
       "      <td>4 ba</td>\n",
       "      <td>2565 sf</td>\n",
       "      <td>16577 60 Avenue</td>\n",
       "    </tr>\n",
       "  </tbody>\n",
       "</table>\n",
       "</div>"
      ],
      "text/plain": [
       "            price bedrooms bathrooms     sqft                    address\n",
       "0  \\n$1,498,900\\n     5 bd      5 ba  3723 sf  15691 Mountain View Drive\n",
       "1  \\n$1,668,800\\n     5 bd      3 ba  3514 sf        3081 Hillview Court\n",
       "2  \\n$1,279,800\\n     8 bd      6 ba  3873 sf           7420 124b Street\n",
       "3  \\n$1,788,000\\n     5 bd      5 ba  5012 sf           11218 163 Street\n",
       "4    \\n$950,000\\n     5 bd      4 ba  2565 sf            16577 60 Avenue"
      ]
     },
     "execution_count": 141,
     "metadata": {},
     "output_type": "execute_result"
    }
   ],
   "source": [
    "houses=pd.DataFrame()\n",
    "houses['price']=prices\n",
    "houses['bedrooms']=list[0]\n",
    "houses['bathrooms']=list[1]\n",
    "houses['sqft']=list[2]\n",
    "houses['address']=addresses\n",
    "houses.head()"
   ]
  },
  {
   "cell_type": "code",
   "execution_count": 142,
   "metadata": {},
   "outputs": [
    {
     "data": {
      "text/html": [
       "<div>\n",
       "<style scoped>\n",
       "    .dataframe tbody tr th:only-of-type {\n",
       "        vertical-align: middle;\n",
       "    }\n",
       "\n",
       "    .dataframe tbody tr th {\n",
       "        vertical-align: top;\n",
       "    }\n",
       "\n",
       "    .dataframe thead th {\n",
       "        text-align: right;\n",
       "    }\n",
       "</style>\n",
       "<table border=\"1\" class=\"dataframe\">\n",
       "  <thead>\n",
       "    <tr style=\"text-align: right;\">\n",
       "      <th></th>\n",
       "      <th>price</th>\n",
       "      <th>bedrooms</th>\n",
       "      <th>bathrooms</th>\n",
       "      <th>sqft</th>\n",
       "      <th>address</th>\n",
       "    </tr>\n",
       "  </thead>\n",
       "  <tbody>\n",
       "    <tr>\n",
       "      <th>0</th>\n",
       "      <td>1498900</td>\n",
       "      <td>5 bd</td>\n",
       "      <td>5 ba</td>\n",
       "      <td>3723 sf</td>\n",
       "      <td>15691 Mountain View Drive</td>\n",
       "    </tr>\n",
       "    <tr>\n",
       "      <th>1</th>\n",
       "      <td>1668800</td>\n",
       "      <td>5 bd</td>\n",
       "      <td>3 ba</td>\n",
       "      <td>3514 sf</td>\n",
       "      <td>3081 Hillview Court</td>\n",
       "    </tr>\n",
       "    <tr>\n",
       "      <th>2</th>\n",
       "      <td>1279800</td>\n",
       "      <td>8 bd</td>\n",
       "      <td>6 ba</td>\n",
       "      <td>3873 sf</td>\n",
       "      <td>7420 124b Street</td>\n",
       "    </tr>\n",
       "    <tr>\n",
       "      <th>3</th>\n",
       "      <td>1788000</td>\n",
       "      <td>5 bd</td>\n",
       "      <td>5 ba</td>\n",
       "      <td>5012 sf</td>\n",
       "      <td>11218 163 Street</td>\n",
       "    </tr>\n",
       "    <tr>\n",
       "      <th>4</th>\n",
       "      <td>950000</td>\n",
       "      <td>5 bd</td>\n",
       "      <td>4 ba</td>\n",
       "      <td>2565 sf</td>\n",
       "      <td>16577 60 Avenue</td>\n",
       "    </tr>\n",
       "  </tbody>\n",
       "</table>\n",
       "</div>"
      ],
      "text/plain": [
       "     price bedrooms bathrooms     sqft                    address\n",
       "0  1498900     5 bd      5 ba  3723 sf  15691 Mountain View Drive\n",
       "1  1668800     5 bd      3 ba  3514 sf        3081 Hillview Court\n",
       "2  1279800     8 bd      6 ba  3873 sf           7420 124b Street\n",
       "3  1788000     5 bd      5 ba  5012 sf           11218 163 Street\n",
       "4   950000     5 bd      4 ba  2565 sf            16577 60 Avenue"
      ]
     },
     "execution_count": 142,
     "metadata": {},
     "output_type": "execute_result"
    }
   ],
   "source": [
    "lastcol2=[]\n",
    "del list\n",
    "\n",
    "for price in list(houses['price']): \n",
    "    pricelist= re.findall(\"\\d+\", price)\n",
    "    full=''\n",
    "    for entry in pricelist:\n",
    "        full=full+entry\n",
    "    lastcol2.append(int(full))\n",
    "houses['price']=lastcol2\n",
    "houses.head()"
   ]
  },
  {
   "cell_type": "code",
   "execution_count": 143,
   "metadata": {},
   "outputs": [
    {
     "name": "stdout",
     "output_type": "stream",
     "text": [
      "550\n"
     ]
    },
    {
     "data": {
      "text/html": [
       "<div>\n",
       "<style scoped>\n",
       "    .dataframe tbody tr th:only-of-type {\n",
       "        vertical-align: middle;\n",
       "    }\n",
       "\n",
       "    .dataframe tbody tr th {\n",
       "        vertical-align: top;\n",
       "    }\n",
       "\n",
       "    .dataframe thead th {\n",
       "        text-align: right;\n",
       "    }\n",
       "</style>\n",
       "<table border=\"1\" class=\"dataframe\">\n",
       "  <thead>\n",
       "    <tr style=\"text-align: right;\">\n",
       "      <th></th>\n",
       "      <th>price</th>\n",
       "      <th>bedrooms</th>\n",
       "      <th>bathrooms</th>\n",
       "      <th>sqft</th>\n",
       "      <th>address</th>\n",
       "    </tr>\n",
       "  </thead>\n",
       "  <tbody>\n",
       "    <tr>\n",
       "      <th>0</th>\n",
       "      <td>1498900</td>\n",
       "      <td>5</td>\n",
       "      <td>5 ba</td>\n",
       "      <td>3723 sf</td>\n",
       "      <td>15691 Mountain View Drive</td>\n",
       "    </tr>\n",
       "    <tr>\n",
       "      <th>1</th>\n",
       "      <td>1668800</td>\n",
       "      <td>5</td>\n",
       "      <td>3 ba</td>\n",
       "      <td>3514 sf</td>\n",
       "      <td>3081 Hillview Court</td>\n",
       "    </tr>\n",
       "    <tr>\n",
       "      <th>2</th>\n",
       "      <td>1279800</td>\n",
       "      <td>8</td>\n",
       "      <td>6 ba</td>\n",
       "      <td>3873 sf</td>\n",
       "      <td>7420 124b Street</td>\n",
       "    </tr>\n",
       "    <tr>\n",
       "      <th>3</th>\n",
       "      <td>1788000</td>\n",
       "      <td>5</td>\n",
       "      <td>5 ba</td>\n",
       "      <td>5012 sf</td>\n",
       "      <td>11218 163 Street</td>\n",
       "    </tr>\n",
       "    <tr>\n",
       "      <th>4</th>\n",
       "      <td>950000</td>\n",
       "      <td>5</td>\n",
       "      <td>4 ba</td>\n",
       "      <td>2565 sf</td>\n",
       "      <td>16577 60 Avenue</td>\n",
       "    </tr>\n",
       "  </tbody>\n",
       "</table>\n",
       "</div>"
      ],
      "text/plain": [
       "     price  bedrooms bathrooms     sqft                    address\n",
       "0  1498900         5      5 ba  3723 sf  15691 Mountain View Drive\n",
       "1  1668800         5      3 ba  3514 sf        3081 Hillview Court\n",
       "2  1279800         8      6 ba  3873 sf           7420 124b Street\n",
       "3  1788000         5      5 ba  5012 sf           11218 163 Street\n",
       "4   950000         5      4 ba  2565 sf            16577 60 Avenue"
      ]
     },
     "execution_count": 143,
     "metadata": {},
     "output_type": "execute_result"
    }
   ],
   "source": [
    "lastcol2=[]\n",
    "\n",
    "for bed in list(houses['bedrooms']): \n",
    "    bedlist= re.findall(\"\\d+\", bed)\n",
    "    sum=0\n",
    "    for entry in bedlist:\n",
    "        sum=sum+int(entry)\n",
    "    lastcol2.append(sum)\n",
    "print(len(lastcol2))\n",
    "houses['bedrooms']=lastcol2\n",
    "houses.head()"
   ]
  },
  {
   "cell_type": "code",
   "execution_count": 144,
   "metadata": {},
   "outputs": [
    {
     "name": "stdout",
     "output_type": "stream",
     "text": [
      "550\n"
     ]
    },
    {
     "data": {
      "text/html": [
       "<div>\n",
       "<style scoped>\n",
       "    .dataframe tbody tr th:only-of-type {\n",
       "        vertical-align: middle;\n",
       "    }\n",
       "\n",
       "    .dataframe tbody tr th {\n",
       "        vertical-align: top;\n",
       "    }\n",
       "\n",
       "    .dataframe thead th {\n",
       "        text-align: right;\n",
       "    }\n",
       "</style>\n",
       "<table border=\"1\" class=\"dataframe\">\n",
       "  <thead>\n",
       "    <tr style=\"text-align: right;\">\n",
       "      <th></th>\n",
       "      <th>price</th>\n",
       "      <th>bedrooms</th>\n",
       "      <th>bathrooms</th>\n",
       "      <th>sqft</th>\n",
       "      <th>address</th>\n",
       "    </tr>\n",
       "  </thead>\n",
       "  <tbody>\n",
       "    <tr>\n",
       "      <th>0</th>\n",
       "      <td>1498900</td>\n",
       "      <td>5</td>\n",
       "      <td>5</td>\n",
       "      <td>3723 sf</td>\n",
       "      <td>15691 Mountain View Drive</td>\n",
       "    </tr>\n",
       "    <tr>\n",
       "      <th>1</th>\n",
       "      <td>1668800</td>\n",
       "      <td>5</td>\n",
       "      <td>3</td>\n",
       "      <td>3514 sf</td>\n",
       "      <td>3081 Hillview Court</td>\n",
       "    </tr>\n",
       "    <tr>\n",
       "      <th>2</th>\n",
       "      <td>1279800</td>\n",
       "      <td>8</td>\n",
       "      <td>6</td>\n",
       "      <td>3873 sf</td>\n",
       "      <td>7420 124b Street</td>\n",
       "    </tr>\n",
       "    <tr>\n",
       "      <th>3</th>\n",
       "      <td>1788000</td>\n",
       "      <td>5</td>\n",
       "      <td>5</td>\n",
       "      <td>5012 sf</td>\n",
       "      <td>11218 163 Street</td>\n",
       "    </tr>\n",
       "    <tr>\n",
       "      <th>4</th>\n",
       "      <td>950000</td>\n",
       "      <td>5</td>\n",
       "      <td>4</td>\n",
       "      <td>2565 sf</td>\n",
       "      <td>16577 60 Avenue</td>\n",
       "    </tr>\n",
       "  </tbody>\n",
       "</table>\n",
       "</div>"
      ],
      "text/plain": [
       "     price  bedrooms  bathrooms     sqft                    address\n",
       "0  1498900         5          5  3723 sf  15691 Mountain View Drive\n",
       "1  1668800         5          3  3514 sf        3081 Hillview Court\n",
       "2  1279800         8          6  3873 sf           7420 124b Street\n",
       "3  1788000         5          5  5012 sf           11218 163 Street\n",
       "4   950000         5          4  2565 sf            16577 60 Avenue"
      ]
     },
     "execution_count": 144,
     "metadata": {},
     "output_type": "execute_result"
    }
   ],
   "source": [
    "lastcol2=[]\n",
    "\n",
    "for bath in list(houses['bathrooms']): \n",
    "    bathlist= re.findall(\"\\d+\", bath)\n",
    "    sum=0\n",
    "    for entry in bathlist:\n",
    "        sum=sum+int(entry)\n",
    "    lastcol2.append(sum)\n",
    "print(len(lastcol2))\n",
    "houses['bathrooms']=lastcol2\n",
    "houses.head()"
   ]
  },
  {
   "cell_type": "code",
   "execution_count": 145,
   "metadata": {},
   "outputs": [
    {
     "name": "stdout",
     "output_type": "stream",
     "text": [
      "550\n"
     ]
    },
    {
     "data": {
      "text/html": [
       "<div>\n",
       "<style scoped>\n",
       "    .dataframe tbody tr th:only-of-type {\n",
       "        vertical-align: middle;\n",
       "    }\n",
       "\n",
       "    .dataframe tbody tr th {\n",
       "        vertical-align: top;\n",
       "    }\n",
       "\n",
       "    .dataframe thead th {\n",
       "        text-align: right;\n",
       "    }\n",
       "</style>\n",
       "<table border=\"1\" class=\"dataframe\">\n",
       "  <thead>\n",
       "    <tr style=\"text-align: right;\">\n",
       "      <th></th>\n",
       "      <th>price</th>\n",
       "      <th>bedrooms</th>\n",
       "      <th>bathrooms</th>\n",
       "      <th>sqft</th>\n",
       "      <th>address</th>\n",
       "    </tr>\n",
       "  </thead>\n",
       "  <tbody>\n",
       "    <tr>\n",
       "      <th>0</th>\n",
       "      <td>1498900</td>\n",
       "      <td>5</td>\n",
       "      <td>5</td>\n",
       "      <td>3723</td>\n",
       "      <td>15691 Mountain View Drive</td>\n",
       "    </tr>\n",
       "    <tr>\n",
       "      <th>1</th>\n",
       "      <td>1668800</td>\n",
       "      <td>5</td>\n",
       "      <td>3</td>\n",
       "      <td>3514</td>\n",
       "      <td>3081 Hillview Court</td>\n",
       "    </tr>\n",
       "    <tr>\n",
       "      <th>2</th>\n",
       "      <td>1279800</td>\n",
       "      <td>8</td>\n",
       "      <td>6</td>\n",
       "      <td>3873</td>\n",
       "      <td>7420 124b Street</td>\n",
       "    </tr>\n",
       "    <tr>\n",
       "      <th>3</th>\n",
       "      <td>1788000</td>\n",
       "      <td>5</td>\n",
       "      <td>5</td>\n",
       "      <td>5012</td>\n",
       "      <td>11218 163 Street</td>\n",
       "    </tr>\n",
       "    <tr>\n",
       "      <th>4</th>\n",
       "      <td>950000</td>\n",
       "      <td>5</td>\n",
       "      <td>4</td>\n",
       "      <td>2565</td>\n",
       "      <td>16577 60 Avenue</td>\n",
       "    </tr>\n",
       "  </tbody>\n",
       "</table>\n",
       "</div>"
      ],
      "text/plain": [
       "     price  bedrooms  bathrooms  sqft                    address\n",
       "0  1498900         5          5  3723  15691 Mountain View Drive\n",
       "1  1668800         5          3  3514        3081 Hillview Court\n",
       "2  1279800         8          6  3873           7420 124b Street\n",
       "3  1788000         5          5  5012           11218 163 Street\n",
       "4   950000         5          4  2565            16577 60 Avenue"
      ]
     },
     "execution_count": 145,
     "metadata": {},
     "output_type": "execute_result"
    }
   ],
   "source": [
    "lastcol2=[]\n",
    "\n",
    "for sq in list(houses['sqft']): \n",
    "    sqlist= re.findall(\"\\d+\", sq)\n",
    "    sum=0\n",
    "    for entry in sqlist:\n",
    "        sum=sum+int(entry)\n",
    "    lastcol2.append(sum)\n",
    "print(len(lastcol2))\n",
    "houses['sqft']=lastcol2\n",
    "houses.head()"
   ]
  },
  {
   "cell_type": "code",
   "execution_count": 146,
   "metadata": {},
   "outputs": [],
   "source": [
    "houses.to_json('housesurrey.json')"
   ]
  },
  {
   "cell_type": "code",
   "execution_count": 147,
   "metadata": {},
   "outputs": [],
   "source": [
    "import matplotlib.pyplot as plt\n",
    "import numpy as np\n",
    "from sklearn.linear_model import LinearRegression\n",
    "from sklearn.model_selection import train_test_split"
   ]
  },
  {
   "cell_type": "code",
   "execution_count": 148,
   "metadata": {},
   "outputs": [],
   "source": [
    "X = houses[['bedrooms','bathrooms','sqft']]\n",
    "y = houses['price']"
   ]
  },
  {
   "cell_type": "code",
   "execution_count": 149,
   "metadata": {},
   "outputs": [],
   "source": [
    "X_train, X_test, y_train, y_test= train_test_split(X, y, test_size=0.33)"
   ]
  },
  {
   "cell_type": "code",
   "execution_count": 150,
   "metadata": {},
   "outputs": [],
   "source": [
    "model=LinearRegression()"
   ]
  },
  {
   "cell_type": "code",
   "execution_count": 151,
   "metadata": {},
   "outputs": [
    {
     "data": {
      "text/plain": [
       "LinearRegression(copy_X=True, fit_intercept=True, n_jobs=None, normalize=False)"
      ]
     },
     "execution_count": 151,
     "metadata": {},
     "output_type": "execute_result"
    }
   ],
   "source": [
    "#X_train=X_train.values.reshape(-1,1)\n",
    "#X_test=X_test.values.reshape(-1,1)\n",
    "model.fit(X_train,y_train)"
   ]
  },
  {
   "cell_type": "code",
   "execution_count": 152,
   "metadata": {},
   "outputs": [
    {
     "data": {
      "text/plain": [
       "0.5343862629950649"
      ]
     },
     "execution_count": 152,
     "metadata": {},
     "output_type": "execute_result"
    }
   ],
   "source": [
    "model.score(X_train,y_train)"
   ]
  },
  {
   "cell_type": "code",
   "execution_count": 153,
   "metadata": {},
   "outputs": [
    {
     "data": {
      "text/plain": [
       "0.46764173201943415"
      ]
     },
     "execution_count": 153,
     "metadata": {},
     "output_type": "execute_result"
    }
   ],
   "source": [
    "model.score(X_test,y_test)"
   ]
  },
  {
   "cell_type": "code",
   "execution_count": 154,
   "metadata": {},
   "outputs": [
    {
     "data": {
      "text/plain": [
       "array([-93230.82004203, -49327.53138228,    397.54552998])"
      ]
     },
     "execution_count": 154,
     "metadata": {},
     "output_type": "execute_result"
    }
   ],
   "source": [
    "model.coef_"
   ]
  },
  {
   "cell_type": "code",
   "execution_count": 155,
   "metadata": {},
   "outputs": [
    {
     "data": {
      "text/plain": [
       "price                  1448000\n",
       "bedrooms                    10\n",
       "bathrooms                    6\n",
       "sqft                      4477\n",
       "address      10950 142b Street\n",
       "Name: 72, dtype: object"
      ]
     },
     "execution_count": 155,
     "metadata": {},
     "output_type": "execute_result"
    }
   ],
   "source": [
    "houses.loc[houses['bedrooms'].idxmax()]\n"
   ]
  },
  {
   "cell_type": "code",
   "execution_count": 156,
   "metadata": {},
   "outputs": [
    {
     "data": {
      "text/plain": [
       "price                2299900\n",
       "bedrooms                   9\n",
       "bathrooms                 10\n",
       "sqft                    8405\n",
       "address      5585 148 Street\n",
       "Name: 425, dtype: object"
      ]
     },
     "execution_count": 156,
     "metadata": {},
     "output_type": "execute_result"
    }
   ],
   "source": [
    "houses.loc[houses['bathrooms'].idxmax()]"
   ]
  },
  {
   "cell_type": "code",
   "execution_count": 157,
   "metadata": {},
   "outputs": [
    {
     "data": {
      "text/plain": [
       "price                2299900\n",
       "bedrooms                   9\n",
       "bathrooms                 10\n",
       "sqft                    8405\n",
       "address      5585 148 Street\n",
       "Name: 425, dtype: object"
      ]
     },
     "execution_count": 157,
     "metadata": {},
     "output_type": "execute_result"
    }
   ],
   "source": [
    "houses.loc[houses['sqft'].idxmax()]"
   ]
  },
  {
   "cell_type": "code",
   "execution_count": null,
   "metadata": {},
   "outputs": [],
   "source": []
  }
 ],
 "metadata": {
  "kernelspec": {
   "display_name": "Python 3",
   "language": "python",
   "name": "python3"
  },
  "language_info": {
   "codemirror_mode": {
    "name": "ipython",
    "version": 3
   },
   "file_extension": ".py",
   "mimetype": "text/x-python",
   "name": "python",
   "nbconvert_exporter": "python",
   "pygments_lexer": "ipython3",
   "version": "3.7.3"
  }
 },
 "nbformat": 4,
 "nbformat_minor": 2
}
