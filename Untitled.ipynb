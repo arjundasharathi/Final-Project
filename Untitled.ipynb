{
 "cells": [
  {
   "cell_type": "code",
   "execution_count": null,
   "metadata": {},
   "outputs": [],
   "source": [
    "from splinter import Browser\n",
    "from bs4 import BeautifulSoup as bs\n",
    "import time\n",
    "import requests\n",
    "\n",
    "# def init_browser():\n",
    "\n",
    "!which chromedriver\n",
    "executable_path = {\"executable_path\": \"chromedriver.exe\"}\n",
    "browser = Browser(\"chrome\", **executable_path, headless=False)\n",
    "\n",
    "# browser = init_browser()\n",
    "\n",
    "from requests_html import HTMLSession,AsyncHTMLSession\n",
    "\n",
    "url = \"https://toronto.listing.ca/\"\n",
    "html_content = requests.get(url)\n",
    "browser.visit(url)\n",
    "\n",
    "time.sleep(1)\n",
    "html = browser.html\n",
    "soup = bs(html, \"html.parser\")\n",
    "\n",
    "\n",
    "# soup = bs(html_content, \"html\")\n",
    "print(soup.prettify())\n"
   ]
  },
  {
   "cell_type": "code",
   "execution_count": null,
   "metadata": {},
   "outputs": [],
   "source": [
    "houses = soup.find_all('div', class_=\"lc\")"
   ]
  },
  {
   "cell_type": "code",
   "execution_count": null,
   "metadata": {},
   "outputs": [],
   "source": [
    "houses[0].find('div', class_=\"slt_address\").text\n"
   ]
  },
  {
   "cell_type": "code",
   "execution_count": null,
   "metadata": {},
   "outputs": [],
   "source": [
    "houses[0].find('div', class_=\"slt_beds\").text\n"
   ]
  },
  {
   "cell_type": "code",
   "execution_count": null,
   "metadata": {},
   "outputs": [],
   "source": [
    "houses[0].find('div', class_=\"slt_baths\").text\n"
   ]
  },
  {
   "cell_type": "code",
   "execution_count": null,
   "metadata": {},
   "outputs": [],
   "source": [
    "houses[0].find('div', class_=\"slt_price\").text"
   ]
  },
  {
   "cell_type": "code",
   "execution_count": null,
   "metadata": {},
   "outputs": [],
   "source": [
    "houses[0].find('div', class_=\"sl_loc\").a.text"
   ]
  },
  {
   "cell_type": "code",
   "execution_count": null,
   "metadata": {},
   "outputs": [],
   "source": [
    "for house in houses:\n",
    "    Address = house.find('div', class_=\"slt_address\").text\n",
    "    Beds = house.find('div', class_=\"slt_beds\").text\n",
    "    Baths = house.find('div', class_=\"slt_baths\").text\n",
    "    Price = house.find('div', class_=\"slt_price\").text\n",
    "    Location = house.find('div', class_=\"sl_loc\").a.text\n",
    "    \n",
    "    print(\"---------------\")\n",
    "    print(Address)\n",
    "    print(Beds)\n",
    "    print(Baths)\n",
    "    print(Price)\n",
    "    print(Location)"
   ]
  },
  {
   "cell_type": "code",
   "execution_count": null,
   "metadata": {},
   "outputs": [],
   "source": []
  },
  {
   "cell_type": "code",
   "execution_count": null,
   "metadata": {},
   "outputs": [],
   "source": []
  }
 ],
 "metadata": {
  "kernelspec": {
   "display_name": "Python 3",
   "language": "python",
   "name": "python3"
  },
  "language_info": {
   "codemirror_mode": {
    "name": "ipython",
    "version": 3
   },
   "file_extension": ".py",
   "mimetype": "text/x-python",
   "name": "python",
   "nbconvert_exporter": "python",
   "pygments_lexer": "ipython3",
   "version": "3.7.3"
  }
 },
 "nbformat": 4,
 "nbformat_minor": 2
}
