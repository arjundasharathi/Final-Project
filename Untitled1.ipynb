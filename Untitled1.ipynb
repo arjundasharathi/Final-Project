{
 "cells": [
  {
   "cell_type": "code",
   "execution_count": null,
   "metadata": {},
   "outputs": [],
   "source": [
    "from splinter import Browser\n",
    "from bs4 import BeautifulSoup as bs\n",
    "import time\n",
    "\n",
    "\n",
    "def init_browser():\n",
    "    # @NOTE: Replace the path with your actual path to the chromedriver\n",
    "    executable_path = {\"executable_path\": \"/usr/local/bin/chromedriver\"}\n",
    "    return Browser(\"chrome\", **executable_path, headless=False)\n",
    "\n",
    "\n",
    "def scrape_info():\n",
    "    browser = init_browser()\n",
    "\n",
    "    url = \"https://www.point2homes.com/CA/Real-Estate-Listings/ON/Brampton.html\"\n",
    "    browser.visit(url)\n",
    "\n",
    "    time.sleep(1)\n",
    "\n",
    "    html = browser.html\n",
    "    soup = bs(html, \"html.parser\")\n",
    "\n",
    "    Address = soup.find('div', id='address-container')\n",
    "\n",
    "    Beds = Beds.find_all('strong')[0].text\n",
    "\n",
    "    Baths = Baths.find_all('strong')[1].text\n",
    "\n",
    "    Price = Price.find_all('span')[0].text\n",
    "\n",
    "    House_Data = {\n",
    "        \"Address\": Address,\n",
    "        \"Beds\": Beds,\n",
    "        \"Baths\": Baths,\n",
    "        \"Price\": Price\n",
    "    }\n",
    "\n",
    "    browser.quit()\n",
    "\n",
    "    return House_Data"
   ]
  }
 ],
 "metadata": {
  "kernelspec": {
   "display_name": "Python 3",
   "language": "python",
   "name": "python3"
  },
  "language_info": {
   "codemirror_mode": {
    "name": "ipython",
    "version": 3
   },
   "file_extension": ".py",
   "mimetype": "text/x-python",
   "name": "python",
   "nbconvert_exporter": "python",
   "pygments_lexer": "ipython3",
   "version": "3.7.3"
  }
 },
 "nbformat": 4,
 "nbformat_minor": 2
}
